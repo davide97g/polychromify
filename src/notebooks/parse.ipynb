{
 "cells": [
  {
   "cell_type": "markdown",
   "metadata": {},
   "source": [
    "# Parse\n",
    "In this notebook I will import different datasets. Then I will compare them and finally I will select the one to be used in the project."
   ]
  },
  {
   "cell_type": "code",
   "execution_count": 128,
   "metadata": {},
   "outputs": [],
   "source": [
    "import pandas as pd\n",
    "import numpy as np\n",
    "import tensorflow as tf\n",
    "import os\n",
    "from PIL import Image\n",
    "import matplotlib.pyplot as plt\n",
    "from skimage import data\n",
    "from skimage.color import rgb2gray\n",
    "from tqdm import tqdm"
   ]
  },
  {
   "cell_type": "code",
   "execution_count": 162,
   "metadata": {},
   "outputs": [],
   "source": [
    "path = \"../../dataset/\"\n",
    "dataset = \"mirflickr25k\"\n",
    "output_path = \"../../\""
   ]
  },
  {
   "cell_type": "markdown",
   "metadata": {},
   "source": [
    " ## Preprocessing"
   ]
  },
  {
   "cell_type": "code",
   "execution_count": 72,
   "metadata": {},
   "outputs": [],
   "source": [
    "def plot_comparison(img_resized,img_grayscaled):     \n",
    "    fig, axes = plt.subplots(1, 2, figsize=(8, 4))\n",
    "    ax = axes.ravel()\n",
    "\n",
    "    ax[0].imshow(img_resized)\n",
    "    ax[0].set_title(\"Resized\")\n",
    "    ax[1].imshow(img_grayscaled, cmap=plt.cm.gray)\n",
    "    ax[1].set_title(\"Grayscale\")\n",
    "\n",
    "    fig.tight_layout()\n",
    "    plt.show()"
   ]
  },
  {
   "cell_type": "code",
   "execution_count": 98,
   "metadata": {},
   "outputs": [],
   "source": [
    "'''\n",
    "Preprocessing:\n",
    "- resizing\n",
    "- grayscaling\n",
    "- normalizing\n",
    "- check tensor format\n",
    "'''\n",
    "def preprocess_img(img_original,W,H):\n",
    "    # resize to fixed size\n",
    "    img_resized =  np.asarray(Image.fromarray(img_original).resize((W,H),resample=3))\n",
    "    # grayscale\n",
    "    img_grayscaled = rgb2gray(img_resized)\n",
    "    # normalize\n",
    "    img_grayscaled = img_grayscaled.astype(\"float32\") / 255\n",
    "    # tensor format\n",
    "    img_resized = img_resized.reshape(W,H,3)    \n",
    "    img_grayscaled = img_grayscaled.reshape(W,H,1)    \n",
    "    # plot_comparison(img_resized,img_grayscaled)\n",
    "    return (img_resized,img_grayscaled)"
   ]
  },
  {
   "cell_type": "code",
   "execution_count": 164,
   "metadata": {},
   "outputs": [],
   "source": [
    "# defining some pre-processing parameters\n",
    "\n",
    "N = 500 # number of images to pre-process\n",
    "W = 128 # width to rescale\n",
    "H = 128 # height to rescale\n",
    "\n",
    "block = 250\n",
    "\n",
    "img_paths = [img for img in os.listdir(path+dataset) if \".jpg\" in img]"
   ]
  },
  {
   "cell_type": "code",
   "execution_count": 165,
   "metadata": {},
   "outputs": [
    {
     "name": "stdout",
     "output_type": "stream",
     "text": [
      "Found 25000 images\n",
      "Ready to preprocess images in blocks of 250 units\n"
     ]
    }
   ],
   "source": [
    "print(f\"Found {len(img_paths)} images\\nReady to preprocess images in blocks of {block} units\")"
   ]
  },
  {
   "cell_type": "code",
   "execution_count": 170,
   "metadata": {},
   "outputs": [
    {
     "name": "stderr",
     "output_type": "stream",
     "text": [
      "100%|████████████████████████████████████████████████████████████████████████████████| 500/500 [00:23<00:00, 21.27it/s]\n"
     ]
    }
   ],
   "source": [
    "# array containers\n",
    "resized = np.array([])\n",
    "grayscaled = np.array([])\n",
    "\n",
    "for i,img_path in tqdm(enumerate(img_paths[:N]),total=N):       \n",
    "    # read image file with \"Pillow\"\n",
    "    PIL_img = Image.open(f\"{path}{dataset}/{img_path}\")                \n",
    "    # preprocess\n",
    "    img_resized, img_grayscaled = preprocess_img(np.asarray(PIL_img),W,H)   \n",
    "    # append to global arrays\n",
    "    resized = np.append(resized,img_resized)\n",
    "    grayscaled = np.append(grayscaled,img_grayscaled)\n",
    "\n",
    "    if i>1 and (i+1) % block == 0:\n",
    "        \n",
    "        # reshaping\n",
    "        resized = resized.reshape(block,W,H,3)\n",
    "        grayscaled = grayscaled.reshape(block,W,H,1)\n",
    "        \n",
    "        # save to npy file\n",
    "        np.savez_compressed(output_path+\"resized.npz\", resized)\n",
    "        np.savez_compressed(output_path+\"grayscaled.npz\", grayscaled)\n",
    "        \n",
    "        # reset array containers\n",
    "        resized = np.array([])\n",
    "        grayscaled = np.array([])"
   ]
  },
  {
   "cell_type": "code",
   "execution_count": 157,
   "metadata": {},
   "outputs": [],
   "source": []
  }
 ],
 "metadata": {
  "kernelspec": {
   "display_name": "Python 3",
   "language": "python",
   "name": "python3"
  },
  "language_info": {
   "codemirror_mode": {
    "name": "ipython",
    "version": 3
   },
   "file_extension": ".py",
   "mimetype": "text/x-python",
   "name": "python",
   "nbconvert_exporter": "python",
   "pygments_lexer": "ipython3",
   "version": "3.8.5"
  }
 },
 "nbformat": 4,
 "nbformat_minor": 4
}
