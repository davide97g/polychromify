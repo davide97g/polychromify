{
 "cells": [
  {
   "cell_type": "code",
   "execution_count": 1,
   "id": "869d68e0",
   "metadata": {},
   "outputs": [],
   "source": [
    "from selenium import webdriver\n",
    "from selenium.webdriver.chrome.options import Options\n",
    "from tqdm import tqdm\n",
    "import requests\n",
    "import time\n",
    "import os"
   ]
  },
  {
   "cell_type": "code",
   "execution_count": 13,
   "id": "2e5ad135",
   "metadata": {},
   "outputs": [],
   "source": [
    "download_path=\"../dataset/onepiece/\""
   ]
  },
  {
   "cell_type": "code",
   "execution_count": 15,
   "id": "a3036b03",
   "metadata": {},
   "outputs": [],
   "source": [
    "options = Options()\n",
    "options.headless = True\n",
    "options.add_argument(\"--window-size=1920,1200\")\n",
    "\n",
    "driver = webdriver.Chrome(options=options, executable_path=\"../.bin/chromedriver\")\n",
    "driver.implicitly_wait(0.5)\n",
    "driver.get(\"https://mangasee123.com/manga/One-Piece-Digital-Colored-Comics\")"
   ]
  },
  {
   "cell_type": "code",
   "execution_count": 17,
   "id": "aad8a08f",
   "metadata": {},
   "outputs": [],
   "source": [
    "driver.find_element_by_class_name('ShowAllChapters').click()\n",
    "chapterLinks = driver.find_elements_by_css_selector('a.ChapterLink')"
   ]
  },
  {
   "cell_type": "code",
   "execution_count": 18,
   "id": "1ef9a6b8",
   "metadata": {},
   "outputs": [
    {
     "name": "stdout",
     "output_type": "stream",
     "text": [
      "Found 942 available chapters\n"
     ]
    }
   ],
   "source": [
    "links = list([{'name':elem.text.split(\"\\n\")[0],'link':elem.get_attribute('href')} for elem in chapterLinks])\n",
    "print(f\"Found {len(links)} available chapters\")"
   ]
  },
  {
   "cell_type": "code",
   "execution_count": 19,
   "id": "46e0c81a",
   "metadata": {},
   "outputs": [],
   "source": [
    "def find_pages():\n",
    "    btn_modal = driver.find_element_by_css_selector(\"body > div.MainContainer > div.container.DesktopNav.top-10 > div > div.Column.col-lg-2.col-6.ng-scope > button\")\n",
    "    btn_modal.click()\n",
    "    time.sleep(0.5)\n",
    "    row = driver.find_element_by_css_selector(\"#PageModal > div > div > div.modal-body > div\")\n",
    "    buttons = row.find_elements_by_tag_name(\"button\")\n",
    "    numbers = [int(button.text) for button in buttons]\n",
    "    driver.find_element_by_css_selector(\"#PageModal > div > div > div.modal-footer > button\").click()\n",
    "    return max(numbers)"
   ]
  },
  {
   "cell_type": "code",
   "execution_count": 21,
   "id": "bb778bf8",
   "metadata": {},
   "outputs": [
    {
     "name": "stderr",
     "output_type": "stream",
     "text": [
      "100%|██████████| 942/942 [00:25<00:00, 36.79it/s]  \n"
     ]
    }
   ],
   "source": [
    "for chapter in tqdm(links):    \n",
    "    if not os.path.exists(download_path+chapter.get(\"name\")):\n",
    "        os.mkdir(download_path+chapter.get(\"name\"))\n",
    "        # go to chapter\n",
    "        driver.get(chapter.get(\"link\"))    \n",
    "        # extract the number of pages\n",
    "        try:\n",
    "            pages = find_pages()\n",
    "        except:\n",
    "            pages = 15\n",
    "        # extract max\n",
    "        pages = pages if pages<15 else 15\n",
    "        # download the pages\n",
    "        for page in range(pages):\n",
    "            time.sleep(1)\n",
    "            img = driver.find_element_by_css_selector(\"img.img-fluid\")\n",
    "            src = img.get_attribute(\"src\")   \n",
    "            r = requests.get(src)\n",
    "            with open(download_path+chapter.get(\"name\")+\"/\"+str(page)+'.png', 'wb') as outfile:\n",
    "                outfile.write(r.content)\n",
    "            img.click()"
   ]
  },
  {
   "cell_type": "code",
   "execution_count": 22,
   "id": "f7626c6b",
   "metadata": {},
   "outputs": [],
   "source": [
    "driver.quit()"
   ]
  }
 ],
 "metadata": {
  "kernelspec": {
   "display_name": "Python 3",
   "language": "python",
   "name": "python3"
  },
  "language_info": {
   "codemirror_mode": {
    "name": "ipython",
    "version": 3
   },
   "file_extension": ".py",
   "mimetype": "text/x-python",
   "name": "python",
   "nbconvert_exporter": "python",
   "pygments_lexer": "ipython3",
   "version": "3.8.8"
  }
 },
 "nbformat": 4,
 "nbformat_minor": 5
}
