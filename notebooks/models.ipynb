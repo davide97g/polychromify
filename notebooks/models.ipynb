{
  "nbformat": 4,
  "nbformat_minor": 0,
  "metadata": {
    "colab": {
      "name": "models.ipynb",
      "provenance": [],
      "collapsed_sections": [
        "Se7WZpabiGDq",
        "zXmk-dvm7CS3",
        "zJv5WlDP8Op5",
        "MpZqg6s87LMy",
        "Tj1GaLqV7Q6e",
        "wWa2CKqMzpBG",
        "eEU_Ty2f7V3C",
        "QHJli7-xzbCy",
        "F_Ip8JmwB6wH",
        "VM0pvk5L1E0k",
        "SBp-0Hh71HCD"
      ]
    },
    "kernelspec": {
      "display_name": "Python 3",
      "name": "python3"
    },
    "language_info": {
      "name": "python"
    },
    "accelerator": "GPU"
  },
  "cells": [
    {
      "cell_type": "code",
      "metadata": {
        "id": "oTTHFcXOgADc"
      },
      "source": [
        "! pip install visualkeras"
      ],
      "execution_count": null,
      "outputs": []
    },
    {
      "cell_type": "code",
      "metadata": {
        "id": "IdDaQbrm2HWr"
      },
      "source": [
        "import os\n",
        "import numpy as np\n",
        "import matplotlib.pyplot as plt\n",
        "from tqdm import tqdm\n",
        "\n",
        "import tensorflow as tf\n",
        "\n",
        "from keras.layers import Conv2D, UpSampling2D, Dense, MaxPooling2D, BatchNormalization, Dropout, BatchNormalization, Conv2DTranspose\n",
        "from keras.models import Sequential\n",
        "\n",
        "import random\n",
        "import visualkeras"
      ],
      "execution_count": null,
      "outputs": []
    },
    {
      "cell_type": "code",
      "metadata": {
        "id": "yxajSPEo2Zm6"
      },
      "source": [
        "dataset_path = \"drive/MyDrive/tiny-imagenet-200/\"\n",
        "models_path = 'drive/MyDrive/Università/Magistrale/VCS/models/'"
      ],
      "execution_count": null,
      "outputs": []
    },
    {
      "cell_type": "code",
      "metadata": {
        "id": "a5jmzluS21u5"
      },
      "source": [
        "SIZE = 64"
      ],
      "execution_count": null,
      "outputs": []
    },
    {
      "cell_type": "markdown",
      "metadata": {
        "id": "8U2-s1l4VPtN"
      },
      "source": [
        "## Dataset loading"
      ]
    },
    {
      "cell_type": "code",
      "metadata": {
        "id": "vldArmIt23eN"
      },
      "source": [
        "X_train = np.load(dataset_path+'x_train.npy')\n",
        "Y_train = np.load(dataset_path+'y_train.npy')\n",
        "\n",
        "X_valid = np.load(dataset_path+'x_valid.npy')\n",
        "Y_valid = np.load(dataset_path+'y_valid.npy')\n",
        "\n",
        "X_test = np.load(dataset_path+'x_test.npy')\n",
        "Y_test = np.load(dataset_path+'y_test.npy')"
      ],
      "execution_count": null,
      "outputs": []
    },
    {
      "cell_type": "code",
      "metadata": {
        "id": "Si5XVI0pwn4h"
      },
      "source": [
        "X_train = tf.image.convert_image_dtype(X_train, tf.float32)\n",
        "Y_train = tf.image.convert_image_dtype(Y_train, tf.float32)\n",
        "\n",
        "X_valid = tf.image.convert_image_dtype(X_valid, tf.float32)\n",
        "Y_valid = tf.image.convert_image_dtype(Y_valid, tf.float32)\n",
        "\n",
        "X_test = tf.image.convert_image_dtype(X_test, tf.float32)\n",
        "Y_test = tf.image.convert_image_dtype(Y_test, tf.float32)"
      ],
      "execution_count": null,
      "outputs": []
    },
    {
      "cell_type": "code",
      "metadata": {
        "id": "jxcKIbh725M7"
      },
      "source": [
        "print(f\"{len(X_train)} training examples\")\n",
        "print(f\"{len(X_valid)} validation examples\")\n",
        "print(f\"{len(X_test)} test examples\")"
      ],
      "execution_count": null,
      "outputs": []
    },
    {
      "cell_type": "markdown",
      "metadata": {
        "id": "Se7WZpabiGDq"
      },
      "source": [
        "## Sample of the dataset"
      ]
    },
    {
      "cell_type": "code",
      "metadata": {
        "id": "yxE3J25Pbtau"
      },
      "source": [
        "from mpl_toolkits.axes_grid1 import ImageGrid\n",
        "from skimage.color import lab2rgb\n",
        "\n",
        "samples = []\n",
        "for i in range(12):\n",
        "  samples.append(round(random.random()*len(X_train)))\n",
        "\n",
        "images = []\n",
        "for i in samples:    \n",
        "    \n",
        "    img = np.zeros((SIZE, SIZE, 3))\n",
        "    img[:,:,0] = X_train[i][:,:,0]\n",
        "    img[:,:,1:] = Y_train[i]*128\n",
        "    images.append(lab2rgb(img))\n",
        "    \n",
        "fig = plt.figure(figsize=(8., 8.))\n",
        "grid = ImageGrid(fig, 111,  \n",
        "                 nrows_ncols=(4, 3), \n",
        "                 axes_pad=0.1,\n",
        "                 )\n",
        "\n",
        "for ax, im in zip(grid, images):\n",
        "    ax.imshow(im)\n",
        "    ax.set_yticklabels([])\n",
        "    ax.set_xticklabels([])\n",
        "\n",
        "plt.show()"
      ],
      "execution_count": null,
      "outputs": []
    },
    {
      "cell_type": "markdown",
      "metadata": {
        "id": "zXmk-dvm7CS3"
      },
      "source": [
        "## CNN\n",
        "\n",
        "Baseline model to test the correctness of the learning framework."
      ]
    },
    {
      "cell_type": "code",
      "metadata": {
        "id": "q7UAz3lL3wfj"
      },
      "source": [
        "model = Sequential(name=(\"CNN\"))\n",
        "\n",
        "model.add(Conv2D(32, (3, 3), activation='relu', padding='same', input_shape=(SIZE, SIZE, 1)))    \n",
        "model.add(BatchNormalization())\n",
        "model.add(Conv2D(64, (3, 3), activation='relu', padding='same'))    \n",
        "model.add(BatchNormalization())\n",
        "model.add(Conv2D(128, (3, 3), activation='relu', padding='same'))\n",
        "model.add(BatchNormalization())\n",
        "\n",
        "model.add(Conv2D(2, (1, 1), activation='tanh', padding='valid'))    "
      ],
      "execution_count": null,
      "outputs": []
    },
    {
      "cell_type": "markdown",
      "metadata": {
        "id": "zJv5WlDP8Op5"
      },
      "source": [
        "## Polychromify\n",
        "Main model: deep convolutional autoencoder."
      ]
    },
    {
      "cell_type": "code",
      "metadata": {
        "id": "BKJDPwcKsByb"
      },
      "source": [
        "model = Sequential(name=(\"Polychromify\"))\n",
        "\n",
        "model.add(Conv2D(64, (3, 3), activation='relu', padding='same', strides=2, input_shape=(SIZE, SIZE, 1)))\n",
        "model.add(Conv2D(128, (3, 3), activation='relu', strides=2, padding='same'))\n",
        "model.add(Conv2D(256, (3, 3), activation='relu', strides=2, padding='same'))\n",
        "\n",
        "model.add(BatchNormalization())\n",
        "\n",
        "model.add(Dense(128, activation='relu'))\n",
        "model.add(Dropout(0.5))\n",
        "model.add(Dense(64, activation='relu'))\n",
        "model.add(Dropout(0.5))\n",
        "model.add(Dense(128, activation='relu'))\n",
        "\n",
        "model.add(BatchNormalization())\n",
        "\n",
        "model.add(Conv2D(256, (3,3), activation='relu', padding='same'))\n",
        "model.add(UpSampling2D((2, 2)))\n",
        "model.add(Conv2D(128, (3,3), activation='relu', padding='same'))\n",
        "model.add(UpSampling2D((2, 2)))\n",
        "model.add(Conv2D(64, (3,3), activation='relu', padding='same'))\n",
        "model.add(UpSampling2D((2, 2)))\n",
        "\n",
        "# Output layer\n",
        "model.add(Conv2D(2, (1,1), activation='tanh', padding='valid'))"
      ],
      "execution_count": null,
      "outputs": []
    },
    {
      "cell_type": "markdown",
      "metadata": {
        "id": "dMtRoxQ9Kxab"
      },
      "source": [
        "## Polychromify (overfit)"
      ]
    },
    {
      "cell_type": "code",
      "metadata": {
        "id": "8dyjLSTrBJ5S"
      },
      "source": [
        "# I want to test a more aggressive colorization despite having lower generalization metrics values (metrics vs qualitative results problem)\n",
        "# In this model I simply removed the dropout and trained for 50 epochs, in this way we achieve a complete overfitting.\n",
        "\n",
        "model = Sequential(name=(\"Polychromify-overfit\"))\n",
        "\n",
        "model.add(Conv2D(64, (3, 3), activation='relu', padding='same', strides=2, input_shape=(SIZE, SIZE, 1)))\n",
        "model.add(Conv2D(128, (3, 3), activation='relu', strides=2, padding='same'))\n",
        "model.add(Conv2D(256, (3, 3), activation='relu', strides=2, padding='same'))\n",
        "\n",
        "model.add(BatchNormalization())\n",
        "\n",
        "model.add(Dense(128, activation='relu'))\n",
        "# model.add(Dropout(0.5))\n",
        "model.add(Dense(64, activation='relu'))\n",
        "# model.add(Dropout(0.5))\n",
        "model.add(Dense(128, activation='relu'))\n",
        "\n",
        "model.add(BatchNormalization())\n",
        "\n",
        "model.add(Conv2D(256, (3,3), activation='relu', padding='same'))\n",
        "model.add(UpSampling2D((2, 2)))\n",
        "model.add(Conv2D(128, (3,3), activation='relu', padding='same'))\n",
        "model.add(UpSampling2D((2, 2)))\n",
        "model.add(Conv2D(64, (3,3), activation='relu', padding='same'))\n",
        "model.add(UpSampling2D((2, 2)))\n",
        "\n",
        "# Output layer\n",
        "model.add(Conv2D(2, (1,1), activation='tanh', padding='valid'))"
      ],
      "execution_count": null,
      "outputs": []
    },
    {
      "cell_type": "markdown",
      "metadata": {
        "id": "MpZqg6s87LMy"
      },
      "source": [
        "## Compile & train"
      ]
    },
    {
      "cell_type": "code",
      "metadata": {
        "id": "5YoipxRal4VX"
      },
      "source": [
        "def PSNR(y_true,y_pred):\n",
        "  return tf.image.psnr(y_true, y_pred, max_val=1.0)"
      ],
      "execution_count": null,
      "outputs": []
    },
    {
      "cell_type": "code",
      "metadata": {
        "id": "6Bawtzbf30gx"
      },
      "source": [
        "model.compile(optimizer=\"adam\", loss='mse', metrics=[PSNR])\n",
        "model.summary()\n",
        "visualkeras.layered_view(model)"
      ],
      "execution_count": null,
      "outputs": []
    },
    {
      "cell_type": "code",
      "metadata": {
        "id": "DeytlRRc31wZ"
      },
      "source": [
        "percentage = 1\n",
        "training_size = round(len(X_train)*percentage)\n",
        "print(f\"Using {percentage*100}% of the available training data:\\ntrain: {training_size}/{len(X_train)}\")"
      ],
      "execution_count": null,
      "outputs": []
    },
    {
      "cell_type": "code",
      "metadata": {
        "id": "kbMokko534LR"
      },
      "source": [
        "history = model.fit(\n",
        "    X_train[:training_size], Y_train[:training_size],\n",
        "    validation_data=(X_valid, Y_valid),\n",
        "    epochs=25,  # Polychromify = 25 | Polychromify-overfit = 50\n",
        "    batch_size=64)"
      ],
      "execution_count": null,
      "outputs": []
    },
    {
      "cell_type": "markdown",
      "metadata": {
        "id": "Tj1GaLqV7Q6e"
      },
      "source": [
        "## Plots, validation & model save"
      ]
    },
    {
      "cell_type": "code",
      "metadata": {
        "id": "sgu1fchc350R"
      },
      "source": [
        "def plot_history(history,model_name):\n",
        "    fig, axes = plt.subplots(1, 2, figsize=(15, 6))\n",
        "    ax = axes.ravel()\n",
        "\n",
        "    # Loss\n",
        "    ax[0].plot(history['loss'])\n",
        "    ax[0].plot(history['val_loss'])\n",
        "    ax[0].set_title('model loss')\n",
        "    ax[0].set_ylabel('loss')\n",
        "    ax[0].set_xlabel('epochs')\n",
        "    ax[0].legend(['train', 'validation'], loc='upper right')\n",
        "    \n",
        "    # PSNR\n",
        "    ax[1].plot(history['PSNR'])\n",
        "    ax[1].plot(history['val_PSNR'])\n",
        "    ax[1].set_title('model PSNR')\n",
        "    ax[1].set_ylabel('PSNR')\n",
        "    ax[1].set_xlabel('epochs')\n",
        "    ax[1].legend(['train', 'validation'], loc='upper left')\n",
        "\n",
        "    fig.tight_layout()\n",
        "    fig.suptitle(model_name,fontsize=16)\n",
        "    plt.show()      "
      ],
      "execution_count": null,
      "outputs": []
    },
    {
      "cell_type": "code",
      "metadata": {
        "id": "GFUUi8mtABsL"
      },
      "source": [
        "plot_history(history.history,model.name)"
      ],
      "execution_count": null,
      "outputs": []
    },
    {
      "cell_type": "code",
      "metadata": {
        "id": "c8DEvm085Nto"
      },
      "source": [
        "print(\"validation\")\n",
        "model.evaluate(X_valid, Y_valid, batch_size=64, verbose=1)\n",
        "print(\"test\")\n",
        "model.evaluate(X_test, Y_test, batch_size=64, verbose=1)"
      ],
      "execution_count": null,
      "outputs": []
    },
    {
      "cell_type": "code",
      "metadata": {
        "id": "FvGBQS3HNSXR"
      },
      "source": [
        "model.save(models_path+model.name) "
      ],
      "execution_count": null,
      "outputs": []
    },
    {
      "cell_type": "markdown",
      "metadata": {
        "id": "wWa2CKqMzpBG"
      },
      "source": [
        "## Load model"
      ]
    },
    {
      "cell_type": "code",
      "metadata": {
        "id": "azAqhCYCOCZY"
      },
      "source": [
        "model_name = \"Polychromify\" # change here to load another one\n",
        "model_loaded = tf.keras.models.load_model(models_path+model_name, custom_objects={'PSNR':PSNR})"
      ],
      "execution_count": null,
      "outputs": []
    },
    {
      "cell_type": "code",
      "metadata": {
        "id": "4F9HUG2tjt43"
      },
      "source": [
        "model_loaded.summary()\n",
        "visualkeras.layered_view(model_loaded)"
      ],
      "execution_count": null,
      "outputs": []
    },
    {
      "cell_type": "code",
      "metadata": {
        "id": "eHspHFTLjLeg"
      },
      "source": [
        "print(\"validation\")\n",
        "model_loaded.evaluate(X_valid, Y_valid, batch_size=64, verbose=1)\n",
        "print(\"test\")\n",
        "model_loaded.evaluate(X_test, Y_test, batch_size=64, verbose=1)"
      ],
      "execution_count": null,
      "outputs": []
    },
    {
      "cell_type": "markdown",
      "metadata": {
        "id": "eEU_Ty2f7V3C"
      },
      "source": [
        "## Visualization"
      ]
    },
    {
      "cell_type": "code",
      "metadata": {
        "id": "jjaQ07mh5PVb"
      },
      "source": [
        "from skimage.color import rgb2lab, lab2rgb\n",
        "from skimage.transform import resize\n",
        "from skimage.metrics import structural_similarity as ssim\n",
        "from skimage.metrics import peak_signal_noise_ratio as psnr\n",
        "from keras.preprocessing.image import ImageDataGenerator, img_to_array, load_img, array_to_img"
      ],
      "execution_count": null,
      "outputs": []
    },
    {
      "cell_type": "code",
      "metadata": {
        "id": "Svs7klyZ5Rmw"
      },
      "source": [
        "def plot_comparison(img_resized,img_recolored, figsize=(7,3),cast=False):     \n",
        "    \n",
        "    fig, axes = plt.subplots(1, 2, figsize=figsize)\n",
        "    ax = axes.ravel()\n",
        "\n",
        "    ax[0].imshow(img_resized)\n",
        "    ax[0].set_title(\"Resized\")\n",
        "    \n",
        "    ax[1].imshow(img_recolored)\n",
        "    ax[1].set_title(\"Recolored\")\n",
        "\n",
        "    fig.tight_layout()\n",
        "    plt.show()     "
      ],
      "execution_count": null,
      "outputs": []
    },
    {
      "cell_type": "code",
      "metadata": {
        "id": "VzmvJYmy5TNp"
      },
      "source": [
        "X_data = X_test\n",
        "Y_data = Y_test\n",
        "for i, x in enumerate(X_data[:10]):     \n",
        "    \n",
        "    img_color = np.array([x], dtype=float)\n",
        "\n",
        "    output = model.predict(img_color)\n",
        "    \n",
        "    result = np.zeros((SIZE, SIZE, 3))\n",
        "    result[:,:,0] = x[:,:,0]\n",
        "    result[:,:,1:] = output[0]*128\n",
        "\n",
        "    recolored = lab2rgb(result)\n",
        "    \n",
        "    original = np.zeros((SIZE, SIZE, 3))\n",
        "    original[:,:,0] = x[:,:,0]\n",
        "    original[:,:,1:] = Y_data[i]*128\n",
        "    \n",
        "    original = lab2rgb(original)\n",
        "    \n",
        "    ssim = tf.image.ssim(original, recolored, max_val=1.0, filter_size=11,\n",
        "                          filter_sigma=1.5, k1=0.01, k2=0.03)\n",
        "    print(f\"SSIM {ssim}\")\n",
        "    print(f\"PSNR {PSNR(original,recolored)}\")\n",
        "    plot_comparison(original, recolored)"
      ],
      "execution_count": null,
      "outputs": []
    },
    {
      "cell_type": "markdown",
      "metadata": {
        "id": "QHJli7-xzbCy"
      },
      "source": [
        "## Metric evaluation"
      ]
    },
    {
      "cell_type": "code",
      "metadata": {
        "id": "-gLYzmcN2tSK"
      },
      "source": [
        "import warnings\n",
        "warnings.filterwarnings(\"ignore\")"
      ],
      "execution_count": null,
      "outputs": []
    },
    {
      "cell_type": "code",
      "metadata": {
        "id": "KZMaUcVLzAie"
      },
      "source": [
        "SSIM_tot = 0\n",
        "PSNR_tot = 0\n",
        "size = len(X_test)\n",
        "for i, x in enumerate(tqdm(X_test[:size])):     \n",
        "    \n",
        "    img_color = np.array([x], dtype=float)\n",
        "\n",
        "    output = model.predict(img_color)\n",
        "\n",
        "    result = np.zeros((SIZE, SIZE, 3))\n",
        "    result[:,:,0] = x[:,:,0]\n",
        "    result[:,:,1:] = output[0]*128\n",
        "\n",
        "    recolored = lab2rgb(result)\n",
        "    \n",
        "    original = np.zeros((SIZE, SIZE, 3))\n",
        "    original[:,:,0] = x[:,:,0]\n",
        "    original[:,:,1:] = Y_test[i]*128\n",
        "    \n",
        "    original = lab2rgb(original)\n",
        "    \n",
        "    ssim = tf.image.ssim(original, recolored, max_val=1.0, filter_size=11,\n",
        "                          filter_sigma=1.5, k1=0.01, k2=0.03)\n",
        "    SSIM_tot += ssim\n",
        "    PSNR_tot += PSNR(original,recolored)\n",
        "\n",
        "print(f\"SSIM {SSIM_tot/size} - PSNR {PSNR_tot/size}\")"
      ],
      "execution_count": null,
      "outputs": []
    },
    {
      "cell_type": "markdown",
      "metadata": {
        "id": "F_Ip8JmwB6wH"
      },
      "source": [
        "## Separate training test"
      ]
    },
    {
      "cell_type": "code",
      "metadata": {
        "id": "hqwYhbWTAn8K"
      },
      "source": [
        "model_A = Sequential(name=(\"Polychromify_A\"))\n",
        "\n",
        "model_A.add(Conv2D(64, (3, 3), activation='relu', strides=2, padding='same', input_shape=(SIZE, SIZE, 1)))\n",
        "model_A.add(Conv2D(128, (3, 3), activation='relu', strides=2, padding='same'))\n",
        "model_A.add(Conv2D(256, (3, 3), activation='relu', strides=2, padding='same'))\n",
        "\n",
        "model_A.add(BatchNormalization())\n",
        "\n",
        "model_A.add(Dense(128, activation='relu'))\n",
        "model_A.add(Dropout(0.5))\n",
        "model_A.add(Dense(64, activation='relu'))\n",
        "model_A.add(Dropout(0.5))\n",
        "model_A.add(Dense(128, activation='relu'))\n",
        "\n",
        "model_A.add(BatchNormalization())\n",
        "\n",
        "model_A.add(Conv2D(256, (3, 3), activation='relu', padding='same'))\n",
        "model_A.add(UpSampling2D((2, 2)))\n",
        "model_A.add(Conv2D(128, (3,3), activation='relu', padding='same'))\n",
        "model_A.add(UpSampling2D((2, 2)))\n",
        "model_A.add(Conv2D(64, (3,3), activation='relu', padding='same'))\n",
        "model_A.add(UpSampling2D((2, 2)))\n",
        "\n",
        "# Output layer\n",
        "model_A.add(Conv2D(1, (1, 1), activation='tanh', padding='valid'))"
      ],
      "execution_count": null,
      "outputs": []
    },
    {
      "cell_type": "code",
      "metadata": {
        "id": "ylu-M4qxEIEK"
      },
      "source": [
        "model_B = Sequential(name=(\"Polychromify_B\"))\n",
        "\n",
        "model_B.add(Conv2D(64, (3, 3), activation='relu', strides=2, padding='same', input_shape=(SIZE, SIZE, 1)))\n",
        "model_B.add(Conv2D(128, (3, 3), activation='relu', strides=2, padding='same'))\n",
        "model_B.add(Conv2D(256, (3, 3), activation='relu', strides=2, padding='same'))\n",
        "\n",
        "model_B.add(BatchNormalization())\n",
        "\n",
        "model_B.add(Dense(128, activation='relu'))\n",
        "model_B.add(Dropout(0.5))\n",
        "model_B.add(Dense(64, activation='relu'))\n",
        "model_B.add(Dropout(0.5))\n",
        "model_B.add(Dense(128, activation='relu'))\n",
        "\n",
        "model_B.add(BatchNormalization())\n",
        "\n",
        "model_B.add(Conv2D(256, (3, 3), activation='relu', padding='same'))\n",
        "model_B.add(UpSampling2D((2, 2)))\n",
        "model_B.add(Conv2D(128, (3,3), activation='relu', padding='same'))\n",
        "model_B.add(UpSampling2D((2, 2)))\n",
        "model_B.add(Conv2D(64, (3,3), activation='relu', padding='same'))\n",
        "model_B.add(UpSampling2D((2, 2)))\n",
        "\n",
        "# Output layer\n",
        "model_B.add(Conv2D(1, (1, 1), activation='tanh', padding='valid'))"
      ],
      "execution_count": null,
      "outputs": []
    },
    {
      "cell_type": "code",
      "metadata": {
        "id": "n_MrFRGFEWzO"
      },
      "source": [
        "model_A.compile(optimizer=\"adam\", loss='mse', metrics=[PSNR])\n",
        "model_B.compile(optimizer=\"adam\", loss='mse', metrics=[PSNR])"
      ],
      "execution_count": null,
      "outputs": []
    },
    {
      "cell_type": "code",
      "metadata": {
        "id": "0Ztpfs45tbqD"
      },
      "source": [
        "model_A.summary()\n",
        "visualkeras.layered_view(model_A)"
      ],
      "execution_count": null,
      "outputs": []
    },
    {
      "cell_type": "code",
      "metadata": {
        "id": "DrsCyV9FtaBW"
      },
      "source": [
        "model_B.summary()\n",
        "visualkeras.layered_view(model_B)"
      ],
      "execution_count": null,
      "outputs": []
    },
    {
      "cell_type": "code",
      "metadata": {
        "id": "hiax43owAy0l"
      },
      "source": [
        "history_A = model_A.fit(\n",
        "    X_train[:training_size], Y_train[:,:,:,0][:training_size],\n",
        "    validation_data=(X_valid, Y_valid[:,:,:,0]),\n",
        "    epochs=30, \n",
        "    batch_size=64)"
      ],
      "execution_count": null,
      "outputs": []
    },
    {
      "cell_type": "code",
      "metadata": {
        "id": "e6Yg7gV_CZTI"
      },
      "source": [
        "history_B = model_B.fit(\n",
        "    X_train[:training_size], Y_train[:,:,:,1][:training_size],\n",
        "    validation_data=(X_valid, Y_valid[:,:,:,1]),\n",
        "    epochs=30, \n",
        "    batch_size=64)"
      ],
      "execution_count": null,
      "outputs": []
    },
    {
      "cell_type": "code",
      "metadata": {
        "id": "rXKDUGXCiP7B"
      },
      "source": [
        "plot_history(history_A.history,model_A.name)\n",
        "plot_history(history_B.history,model_B.name)"
      ],
      "execution_count": null,
      "outputs": []
    },
    {
      "cell_type": "code",
      "metadata": {
        "id": "0l79WS4vh3Hf"
      },
      "source": [
        "model_A.save(models_path+model_A.name)\n",
        "model_B.save(models_path+model_B.name)"
      ],
      "execution_count": null,
      "outputs": []
    },
    {
      "cell_type": "markdown",
      "metadata": {
        "id": "VM0pvk5L1E0k"
      },
      "source": [
        "### Visualization"
      ]
    },
    {
      "cell_type": "code",
      "metadata": {
        "id": "nCS1xwfvDxLM"
      },
      "source": [
        "for i, x in enumerate(X_test[:10]):     \n",
        "    \n",
        "    img_color = []\n",
        "    img_color.append(x)\n",
        "    img_color = np.array(img_color, dtype=float)\n",
        "\n",
        "    output_A = model_A.predict(img_color)\n",
        "    output_A = output_A*128\n",
        "\n",
        "    output_B = model_B.predict(img_color)\n",
        "    output_B = output_B*128\n",
        "    \n",
        "    result = np.zeros((SIZE, SIZE, 3))\n",
        "    result[:,:,0] = img_color[0][:,:,0]\n",
        "\n",
        "    result[:,:,1] = output_A[0][:,:,0]\n",
        "    result[:,:,2] = output_B[0][:,:,0]\n",
        "\n",
        "    recolored = lab2rgb(result)\n",
        "    \n",
        "    original = np.zeros((SIZE, SIZE, 3))\n",
        "    original[:,:,0] = x[:,:,0]\n",
        "    original[:,:,1:] = Y_test[i]*128\n",
        "    \n",
        "    original = lab2rgb(original)\n",
        "\n",
        "    ssim = tf.image.ssim(original, recolored, max_val=1.0, filter_size=11,\n",
        "                          filter_sigma=1.5, k1=0.01, k2=0.03)\n",
        "    print(f\"SSIM {ssim}\")\n",
        "    print(f\"PSNR {PSNR(original,recolored)}\")\n",
        "\n",
        "    plot_comparison(original, recolored)"
      ],
      "execution_count": null,
      "outputs": []
    },
    {
      "cell_type": "markdown",
      "metadata": {
        "id": "SBp-0Hh71HCD"
      },
      "source": [
        "### Metrics"
      ]
    },
    {
      "cell_type": "code",
      "metadata": {
        "id": "V_kQbhq5wuSz"
      },
      "source": [
        "SSIM_tot = 0\n",
        "PSNR_tot = 0\n",
        "\n",
        "size = len(X_test)\n",
        "for i, x in enumerate(tqdm(X_test[:size])):     \n",
        "    \n",
        "    img_color = []\n",
        "    img_color.append(x)\n",
        "    img_color = np.array(img_color, dtype=float)\n",
        "\n",
        "    output_A = model_A.predict(img_color)\n",
        "    output_A = output_A*128\n",
        "\n",
        "    output_B = model_B.predict(img_color)\n",
        "    output_B = output_B*128\n",
        "    \n",
        "    result = np.zeros((SIZE, SIZE, 3))\n",
        "    result[:,:,0] = img_color[0][:,:,0]\n",
        "\n",
        "    result[:,:,1] = output_A[0][:,:,0]\n",
        "    result[:,:,2] = output_B[0][:,:,0]\n",
        "\n",
        "    recolored = lab2rgb(result)\n",
        "    \n",
        "    original = np.zeros((SIZE, SIZE, 3))\n",
        "    original[:,:,0] = x[:,:,0]\n",
        "    original[:,:,1:] = Y_test[i]*128\n",
        "    \n",
        "    original = lab2rgb(original)\n",
        "\n",
        "    ssim = tf.image.ssim(original, recolored, max_val=1.0, filter_size=11,\n",
        "                          filter_sigma=1.5, k1=0.01, k2=0.03)\n",
        "    SSIM_tot += ssim\n",
        "    PSNR_tot += PSNR(original,recolored)\n",
        "print(f\"SSIM {SSIM_tot/size} - PSNR {PSNR_tot/size}\")"
      ],
      "execution_count": null,
      "outputs": []
    }
  ]
}